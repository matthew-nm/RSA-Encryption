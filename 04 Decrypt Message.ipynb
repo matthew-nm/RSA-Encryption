{
 "cells": [
  {
   "cell_type": "markdown",
   "metadata": {},
   "source": [
    "# RSA Encryption | 04 | Decrypt Message"
   ]
  },
  {
   "cell_type": "code",
   "execution_count": 19,
   "metadata": {
    "collapsed": true
   },
   "outputs": [],
   "source": [
    "message = [1135, 1518, 2658, 2658, 1132, 1498, 2833, 1132, 2473, 2658, 2487, 399]"
   ]
  },
  {
   "cell_type": "code",
   "execution_count": 26,
   "metadata": {
    "collapsed": true
   },
   "outputs": [],
   "source": [
    "def decrypt(mess_encrypted, key_private, key_public):\n",
    "    \n",
    "    # Decrypt message\n",
    "    mess_ascii = []\n",
    "    for i in mess_encrypted:\n",
    "        mess_ascii.append((i**key_private) % key_public)\n",
    "    \n",
    "    # Convert message to string\n",
    "    message = []\n",
    "    for i in mess_ascii:\n",
    "        message.append(chr(i))\n",
    "    \n",
    "    # Return decrypted message\n",
    "    return ('').join(message)"
   ]
  },
  {
   "cell_type": "code",
   "execution_count": 27,
   "metadata": {
    "collapsed": false
   },
   "outputs": [
    {
     "data": {
      "text/plain": [
       "'Hello world.'"
      ]
     },
     "execution_count": 27,
     "metadata": {},
     "output_type": "execute_result"
    }
   ],
   "source": [
    "decrypt(message,2011,3127)"
   ]
  }
 ],
 "metadata": {
  "kernelspec": {
   "display_name": "Python [conda root]",
   "language": "python",
   "name": "conda-root-py"
  },
  "language_info": {
   "codemirror_mode": {
    "name": "ipython",
    "version": 3
   },
   "file_extension": ".py",
   "mimetype": "text/x-python",
   "name": "python",
   "nbconvert_exporter": "python",
   "pygments_lexer": "ipython3",
   "version": "3.5.2"
  }
 },
 "nbformat": 4,
 "nbformat_minor": 1
}
