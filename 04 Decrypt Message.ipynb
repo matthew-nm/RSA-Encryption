{
 "cells": [
  {
   "cell_type": "markdown",
   "metadata": {},
   "source": [
    "# RSA Encryption | 04 | Decrypt Message\n",
    "Data decryption is achieved using the private key. Only the intended recipient will have the private key, insuring that even if the data is intercepted, it cannot be read.\n",
    "\n",
    "### Import Libraries and Data"
   ]
  },
  {
   "cell_type": "code",
   "execution_count": 1,
   "metadata": {
    "collapsed": true
   },
   "outputs": [],
   "source": [
    "import obj\n",
    "from time import clock"
   ]
  },
  {
   "cell_type": "markdown",
   "metadata": {},
   "source": [
    "### Recieve message"
   ]
  },
  {
   "cell_type": "code",
   "execution_count": 2,
   "metadata": {
    "collapsed": false
   },
   "outputs": [],
   "source": [
    "# Received encrypted message\n",
    "message_encrypted = obj.load('data/message_encrypted')\n",
    "\n",
    "# All keys are known\n",
    "keys        = obj.load('data/keys')\n",
    "exponent    = keys['exponent']\n",
    "key_public  = keys['key_public']\n",
    "key_private = keys['key_private']"
   ]
  },
  {
   "cell_type": "markdown",
   "metadata": {},
   "source": [
    "## Define decryption algorithm"
   ]
  },
  {
   "cell_type": "code",
   "execution_count": 3,
   "metadata": {
    "collapsed": true
   },
   "outputs": [],
   "source": [
    "def decrypt(message_encrypted, key_private, key_public):\n",
    "    \n",
    "    # Decrypt message\n",
    "    message_ascii = []\n",
    "    for i in message_encrypted:\n",
    "        message_ascii.append((i**key_private) % key_public)\n",
    "    \n",
    "    # Convert message to string\n",
    "    message = []\n",
    "    for i in message_ascii:\n",
    "        message.append(chr(i))\n",
    "    \n",
    "    # Return decrypted message\n",
    "    return ('').join(message)"
   ]
  },
  {
   "cell_type": "markdown",
   "metadata": {},
   "source": [
    "## Decrypt message"
   ]
  },
  {
   "cell_type": "code",
   "execution_count": 4,
   "metadata": {
    "collapsed": false
   },
   "outputs": [
    {
     "name": "stdout",
     "output_type": "stream",
     "text": [
      "Message decrypted in 9.8887 seconds.\n",
      "\n",
      "\n",
      "Don't tell my secrets to anyone, please!\n"
     ]
    }
   ],
   "source": [
    "begin = clock()\n",
    "message_decrypted = decrypt(message_encrypted, key_private, key_public)\n",
    "\n",
    "print('Message decrypted in {:.6} seconds.'.format(clock()-begin))\n",
    "print('\\n')\n",
    "print(message_decrypted)"
   ]
  },
  {
   "cell_type": "markdown",
   "metadata": {},
   "source": [
    "### Inspect decryption process\n",
    "The math involved with decrypting the message is very taxing. Even with our small message, it took approx. 10 seconds to finish the decryption process. If the prime factors used to generate the algorithm are known, advanced algorithms can be used to more quickly decrypt the message, but it will still be much longer than the encryption process.\n",
    "\n",
    "As mentioned before, our keys are much smaller than some modern crypto keys. Even still, the values being managed are quite large. Below is an example of an intermediate calculation on our first encrypted charcter."
   ]
  },
  {
   "cell_type": "code",
   "execution_count": 6,
   "metadata": {
    "collapsed": false
   },
   "outputs": [
    {
     "name": "stdout",
     "output_type": "stream",
     "text": [
      "This number is 927,453 digits long!\n"
     ]
    }
   ],
   "source": [
    "big_number = message_encrypted[0]**key_private\n",
    "\n",
    "print('This number is {:,} digits long!'.format(len(str(big_number))))"
   ]
  }
 ],
 "metadata": {
  "anaconda-cloud": {},
  "kernelspec": {
   "display_name": "Python [conda root]",
   "language": "python",
   "name": "conda-root-py"
  },
  "language_info": {
   "codemirror_mode": {
    "name": "ipython",
    "version": 3
   },
   "file_extension": ".py",
   "mimetype": "text/x-python",
   "name": "python",
   "nbconvert_exporter": "python",
   "pygments_lexer": "ipython3",
   "version": "3.5.2"
  }
 },
 "nbformat": 4,
 "nbformat_minor": 1
}
