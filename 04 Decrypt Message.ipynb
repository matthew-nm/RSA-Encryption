{
 "cells": [
  {
   "cell_type": "markdown",
   "metadata": {},
   "source": [
    "# RSA Encryption | 04 | Decrypt Message"
   ]
  },
  {
   "cell_type": "code",
   "execution_count": 1,
   "metadata": {
    "collapsed": true
   },
   "outputs": [],
   "source": [
    "import obj\n",
    "from time import clock\n",
    "keys = obj.load('data/keys')"
   ]
  },
  {
   "cell_type": "code",
   "execution_count": 2,
   "metadata": {
    "collapsed": false
   },
   "outputs": [],
   "source": [
    "# Received encrypted message\n",
    "message_encrypted = obj.load('data/message_encrypted')\n",
    "\n",
    "# All keys are known\n",
    "exponent    = keys['exponent']\n",
    "key_public  = keys['key_public']\n",
    "key_private = keys['key_private']"
   ]
  },
  {
   "cell_type": "code",
   "execution_count": 3,
   "metadata": {
    "collapsed": true
   },
   "outputs": [],
   "source": [
    "def decrypt(message_encrypted, key_private, key_public):\n",
    "    \n",
    "    # Decrypt message\n",
    "    message_ascii = []\n",
    "    for i in message_encrypted:\n",
    "        message_ascii.append((i**key_private) % key_public)\n",
    "    \n",
    "    # Convert message to string\n",
    "    message = []\n",
    "    for i in message_ascii:\n",
    "        message.append(chr(i))\n",
    "    \n",
    "    # Return decrypted message\n",
    "    return ('').join(message)"
   ]
  },
  {
   "cell_type": "code",
   "execution_count": 4,
   "metadata": {
    "collapsed": false
   },
   "outputs": [
    {
     "name": "stdout",
     "output_type": "stream",
     "text": [
      "Message decrypted in 9.68143 seconds.\n",
      "\n",
      "\n",
      "Dont tell my secrets to anyone, please!\n"
     ]
    }
   ],
   "source": [
    "begin = clock()\n",
    "message_decrypted = decrypt(message_encrypted, key_private, key_public)\n",
    "\n",
    "print('Message decrypted in {:.6} seconds.'.format(clock()-begin))\n",
    "print('\\n')\n",
    "print(message_decrypted)"
   ]
  },
  {
   "cell_type": "code",
   "execution_count": 5,
   "metadata": {
    "collapsed": false
   },
   "outputs": [],
   "source": [
    "#message_encrypted[0]**key_private"
   ]
  }
 ],
 "metadata": {
  "kernelspec": {
   "display_name": "Python [conda root]",
   "language": "python",
   "name": "conda-root-py"
  },
  "language_info": {
   "codemirror_mode": {
    "name": "ipython",
    "version": 3
   },
   "file_extension": ".py",
   "mimetype": "text/x-python",
   "name": "python",
   "nbconvert_exporter": "python",
   "pygments_lexer": "ipython3",
   "version": "3.5.2"
  }
 },
 "nbformat": 4,
 "nbformat_minor": 1
}
