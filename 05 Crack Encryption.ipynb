{
 "cells": [
  {
   "cell_type": "markdown",
   "metadata": {},
   "source": [
    "# RSA Encryption | 05 | Crack Encryption"
   ]
  },
  {
   "cell_type": "code",
   "execution_count": 1,
   "metadata": {
    "collapsed": true
   },
   "outputs": [],
   "source": [
    "# factor public key (yields two prime #'s)\n",
    "# add timer to entire cracking process"
   ]
  },
  {
   "cell_type": "code",
   "execution_count": 2,
   "metadata": {
    "collapsed": false
   },
   "outputs": [],
   "source": [
    "import obj\n",
    "import mmi\n",
    "from time import clock\n",
    "from math import sqrt\n",
    "keys = obj.load('data/keys')"
   ]
  },
  {
   "cell_type": "code",
   "execution_count": 3,
   "metadata": {
    "collapsed": true
   },
   "outputs": [],
   "source": [
    "#Publicly known values\n",
    "exponent   = keys['exponent']\n",
    "key_public = keys['key_public']\n",
    "\n",
    "#Private values are unknown\n",
    "key_private = 'Unknown'"
   ]
  },
  {
   "cell_type": "code",
   "execution_count": 4,
   "metadata": {
    "collapsed": false
   },
   "outputs": [],
   "source": [
    "# If number has non-prime factors, this function will find them, too. \n",
    "# However, it is slightly optimized assuming a single set of prime factors.\n",
    "def findPrimeFactors(num):\n",
    "    \n",
    "    if int(num)!=num or num<=0:\n",
    "        return 'ERROR: Number must be positive integer.'\n",
    "    \n",
    "    elif num<6:\n",
    "        return 'ERROR: Number does not have two prime factors.'\n",
    "    \n",
    "    elif num%2==0:\n",
    "        factorA = 2\n",
    "        factorB = int(num/2)\n",
    "        return {\n",
    "            'A' : factorA,\n",
    "            'B' : factorB\n",
    "        }\n",
    "    \n",
    "    for fac in range(3, int(sqrt(num))+1, 2):\n",
    "        if num % fac == 0:\n",
    "            factorA = fac\n",
    "            factorB = int(num/fac)\n",
    "            return {\n",
    "                'A' : factorA,\n",
    "                'B' : factorB\n",
    "            }\n",
    "        \n",
    "    return 'ERROR: Number does not have two prime factors.' "
   ]
  },
  {
   "cell_type": "code",
   "execution_count": 5,
   "metadata": {
    "collapsed": false
   },
   "outputs": [
    {
     "name": "stdout",
     "output_type": "stream",
     "text": [
      "Public key cracked in 0.000183 seconds.\n",
      "\n",
      "\n",
      "{'B': 541, 'A': 523}\n"
     ]
    }
   ],
   "source": [
    "begin = clock()\n",
    "primes = findPrimeFactors(key_public)\n",
    "\n",
    "print('Public key cracked in {:.6} seconds.'.format(clock()-begin))\n",
    "print('\\n')\n",
    "print(primes)"
   ]
  },
  {
   "cell_type": "code",
   "execution_count": 6,
   "metadata": {
    "collapsed": false
   },
   "outputs": [],
   "source": [
    "# Calculate phi\n",
    "phi = (primes['A'] - 1) * (primes['B'] - 1)\n",
    "\n",
    "# Generate private key\n",
    "key_private = mmi.modinv(exponent, phi)"
   ]
  },
  {
   "cell_type": "code",
   "execution_count": 7,
   "metadata": {
    "collapsed": true
   },
   "outputs": [],
   "source": [
    "# Intercepted encrypted message\n",
    "message_encrypted = obj.load('data/message_encrypted')"
   ]
  },
  {
   "cell_type": "code",
   "execution_count": 8,
   "metadata": {
    "collapsed": true
   },
   "outputs": [],
   "source": [
    "def decrypt(message_encrypted, key_private, key_public):\n",
    "    \n",
    "    # Decrypt message\n",
    "    message_ascii = []\n",
    "    for i in message_encrypted:\n",
    "        message_ascii.append((i**key_private) % key_public)\n",
    "    \n",
    "    # Convert message to string\n",
    "    message = []\n",
    "    for i in message_ascii:\n",
    "        message.append(chr(i))\n",
    "    \n",
    "    # Return decrypted message\n",
    "    return ('').join(message)"
   ]
  },
  {
   "cell_type": "code",
   "execution_count": 9,
   "metadata": {
    "collapsed": true
   },
   "outputs": [],
   "source": [
    "message_stolen = decrypt(message_encrypted, key_private, key_public)"
   ]
  },
  {
   "cell_type": "code",
   "execution_count": 10,
   "metadata": {
    "collapsed": false
   },
   "outputs": [
    {
     "name": "stdout",
     "output_type": "stream",
     "text": [
      "Stolen message (top) vs original message (bottom):\n",
      "\n",
      "\n",
      "Dont tell my secrets to anyone, please!\n",
      "Dont tell my secrets to anyone, please!\n"
     ]
    }
   ],
   "source": [
    "print('Stolen message (top) vs original message (bottom):')\n",
    "print('\\n')\n",
    "print(message_stolen)\n",
    "\n",
    "message = obj.load('data/message')\n",
    "print(message)"
   ]
  }
 ],
 "metadata": {
  "kernelspec": {
   "display_name": "Python [conda root]",
   "language": "python",
   "name": "conda-root-py"
  },
  "language_info": {
   "codemirror_mode": {
    "name": "ipython",
    "version": 3
   },
   "file_extension": ".py",
   "mimetype": "text/x-python",
   "name": "python",
   "nbconvert_exporter": "python",
   "pygments_lexer": "ipython3",
   "version": "3.5.2"
  }
 },
 "nbformat": 4,
 "nbformat_minor": 1
}
