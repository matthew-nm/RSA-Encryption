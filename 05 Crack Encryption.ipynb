{
 "cells": [
  {
   "cell_type": "markdown",
   "metadata": {},
   "source": [
    "# RSA Encryption | 05 | Crack Encryption"
   ]
  },
  {
   "cell_type": "code",
   "execution_count": null,
   "metadata": {
    "collapsed": true
   },
   "outputs": [],
   "source": [
    "# get priv key, given pub key and exp\n",
    "# primes 53, 59\n",
    "# exponent=3 kpub=3127 kpriv=2011"
   ]
  },
  {
   "cell_type": "code",
   "execution_count": null,
   "metadata": {
    "collapsed": true
   },
   "outputs": [],
   "source": [
    "# factor public key (yields two prime #'s)\n",
    "# add timer to entire cracking process"
   ]
  },
  {
   "cell_type": "code",
   "execution_count": 5,
   "metadata": {
    "collapsed": false
   },
   "outputs": [],
   "source": [
    "from math import sqrt"
   ]
  },
  {
   "cell_type": "code",
   "execution_count": 79,
   "metadata": {
    "collapsed": true
   },
   "outputs": [],
   "source": [
    "exp = 3\n",
    "key_public = 3127\n",
    "key_private = 'Unkown'\n",
    "mess_encrypted = [1135, 1518, 2658, 2658, 1132, 1498, 2833, 1132, 2473, 2658, 2487, 399]"
   ]
  },
  {
   "cell_type": "code",
   "execution_count": 86,
   "metadata": {
    "collapsed": false
   },
   "outputs": [],
   "source": [
    "# If number has non-prime factors, this function will find them, too. \n",
    "# However, it is slightly optimized assuming a single set of prime factors.\n",
    "def findPrimeFactors(num):\n",
    "    \n",
    "    if int(num)!=num or num<=0:\n",
    "        return 'ERROR: Number must be positive integer.'\n",
    "    elif num<6:\n",
    "        return 'ERROR: Number does not have two prime factors.'\n",
    "    elif num%2==0:\n",
    "        factorA = 2\n",
    "        factorB = int(num/2)\n",
    "        return {\n",
    "            'A' : factorA,\n",
    "            'B' : factorB\n",
    "        }\n",
    "    \n",
    "    for fac in range(3, int(sqrt(num))+1, 2):\n",
    "        if num % fac == 0:\n",
    "            factorA = fac\n",
    "            factorB = int(num/fac)\n",
    "            return {\n",
    "                'A' : factorA,\n",
    "                'B' : factorB\n",
    "            }\n",
    "        \n",
    "    return 'ERROR: Number does not have two prime factors.' "
   ]
  },
  {
   "cell_type": "code",
   "execution_count": 75,
   "metadata": {
    "collapsed": false
   },
   "outputs": [
    {
     "data": {
      "text/plain": [
       "{'A': 53, 'B': 59}"
      ]
     },
     "execution_count": 75,
     "metadata": {},
     "output_type": "execute_result"
    }
   ],
   "source": [
    "primes = findPrimeFactors(key_public)\n",
    "primes"
   ]
  },
  {
   "cell_type": "code",
   "execution_count": 82,
   "metadata": {
    "collapsed": true
   },
   "outputs": [],
   "source": [
    "# Calculate phi\n",
    "phi = (primes['A'] - 1) * (primes['B'] - 1)\n",
    "\n",
    "# Generate private key\n",
    "key_private = int((2*phi + 1) / exp)"
   ]
  },
  {
   "cell_type": "code",
   "execution_count": 80,
   "metadata": {
    "collapsed": true
   },
   "outputs": [],
   "source": [
    "def decrypt(mess_encrypted, key_private, key_public):\n",
    "    \n",
    "    # Decrypt message\n",
    "    mess_ascii = []\n",
    "    for i in mess_encrypted:\n",
    "        mess_ascii.append((i**key_private) % key_public)\n",
    "    \n",
    "    # Convert message to string\n",
    "    message = []\n",
    "    for i in mess_ascii:\n",
    "        message.append(chr(i))\n",
    "    \n",
    "    # Return decrypted message\n",
    "    return ('').join(message)"
   ]
  },
  {
   "cell_type": "code",
   "execution_count": 84,
   "metadata": {
    "collapsed": false
   },
   "outputs": [
    {
     "name": "stdout",
     "output_type": "stream",
     "text": [
      "Hello world.\n"
     ]
    }
   ],
   "source": [
    "message = decrypt(mess_encrypted, key_private, key_public)\n",
    "print(message)"
   ]
  }
 ],
 "metadata": {
  "kernelspec": {
   "display_name": "Python [conda root]",
   "language": "python",
   "name": "conda-root-py"
  },
  "language_info": {
   "codemirror_mode": {
    "name": "ipython",
    "version": 3
   },
   "file_extension": ".py",
   "mimetype": "text/x-python",
   "name": "python",
   "nbconvert_exporter": "python",
   "pygments_lexer": "ipython3",
   "version": "3.5.2"
  }
 },
 "nbformat": 4,
 "nbformat_minor": 1
}
