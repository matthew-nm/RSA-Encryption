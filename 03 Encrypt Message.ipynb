{
 "cells": [
  {
   "cell_type": "markdown",
   "metadata": {},
   "source": [
    "# RSA Encryption | 03 | Encrypt Message\n",
    "Data encryption is acheived using the public key and exponent value. These are known to anyone who wishes to send data to the private key holder. \n",
    "\n",
    "### Import Libraries"
   ]
  },
  {
   "cell_type": "code",
   "execution_count": 1,
   "metadata": {
    "collapsed": false
   },
   "outputs": [],
   "source": [
    "import obj\n",
    "from time import clock"
   ]
  },
  {
   "cell_type": "markdown",
   "metadata": {},
   "source": [
    "### Create super-secret message"
   ]
  },
  {
   "cell_type": "code",
   "execution_count": 2,
   "metadata": {
    "collapsed": true
   },
   "outputs": [],
   "source": [
    "# Create secret message\n",
    "message = 'Don''t tell my secrets to anyone, please!'\n",
    "\n",
    "# Save message\n",
    "obj.save(message, 'data/message')"
   ]
  },
  {
   "cell_type": "markdown",
   "metadata": {},
   "source": [
    "### Load publicly available key values"
   ]
  },
  {
   "cell_type": "code",
   "execution_count": 3,
   "metadata": {
    "collapsed": false
   },
   "outputs": [],
   "source": [
    "keys = obj.load('data/keys')\n",
    "\n",
    "#Publicly known values\n",
    "exponent   = keys['exponent']\n",
    "key_public = keys['key_public']\n",
    "\n",
    "#Private values are unknown\n",
    "key_private = 'Unknown'"
   ]
  },
  {
   "cell_type": "markdown",
   "metadata": {},
   "source": [
    "## Define encryption algorithm\n",
    "Encrypting is a mathematic process that can only be achieved on numeric data. Our text string must be converted to a numeric representation before encryption can occur. Fortunately, computers have always needed numeric representations of text and therefore we have many options to choose from. Instead of creating our own translation system, we will use ASCII for our conversion which handles typical American letters and symbols."
   ]
  },
  {
   "cell_type": "code",
   "execution_count": 4,
   "metadata": {
    "collapsed": true
   },
   "outputs": [],
   "source": [
    "def encrypt(message, key_public, exp):\n",
    "    \n",
    "    # Convert message to ASCII\n",
    "    message_ascii = []\n",
    "    for i in message:\n",
    "        message_ascii.append(ord(i))\n",
    "    \n",
    "    # Encrypt message\n",
    "    message_encrypted = []\n",
    "    for i in message_ascii:\n",
    "        message_encrypted.append((i**exp) % key_public)\n",
    "        \n",
    "    # Return encrypted message\n",
    "    return message_encrypted"
   ]
  },
  {
   "cell_type": "markdown",
   "metadata": {},
   "source": [
    "## Encrypt message"
   ]
  },
  {
   "cell_type": "code",
   "execution_count": 5,
   "metadata": {
    "collapsed": false
   },
   "outputs": [
    {
     "name": "stdout",
     "output_type": "stream",
     "text": [
      "Message encrypted in 0.001526 seconds.\n",
      "\n",
      "\n",
      "[121594, 93357, 61872, 276169, 192972, 276169, 157025, 224506, 224506, 192972, 129465, 199230, 192972, 139819, 157025, 54924, 25146, 157025, 276169, 139819, 192972, 276169, 93357, 192972, 258683, 61872, 199230, 93357, 61872, 157025, 241873, 192972, 193704, 224506, 157025, 258683, 139819, 157025, 165657]\n"
     ]
    }
   ],
   "source": [
    "begin = clock()\n",
    "message_encrypted = encrypt(message, key_public, exponent)\n",
    "\n",
    "print('Message encrypted in {:.6} seconds.'.format(clock()-begin))\n",
    "print('\\n')\n",
    "print(message_encrypted)"
   ]
  },
  {
   "cell_type": "code",
   "execution_count": 6,
   "metadata": {
    "collapsed": true
   },
   "outputs": [],
   "source": [
    "obj.save(message_encrypted, 'data/message_encrypted')"
   ]
  }
 ],
 "metadata": {
  "kernelspec": {
   "display_name": "Python [conda root]",
   "language": "python",
   "name": "conda-root-py"
  },
  "language_info": {
   "codemirror_mode": {
    "name": "ipython",
    "version": 3
   },
   "file_extension": ".py",
   "mimetype": "text/x-python",
   "name": "python",
   "nbconvert_exporter": "python",
   "pygments_lexer": "ipython3",
   "version": "3.5.2"
  }
 },
 "nbformat": 4,
 "nbformat_minor": 1
}
