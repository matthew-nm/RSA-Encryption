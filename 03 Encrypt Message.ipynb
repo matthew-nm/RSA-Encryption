{
 "cells": [
  {
   "cell_type": "markdown",
   "metadata": {},
   "source": [
    "# RSA Encryption | 03 | Encrypt Message"
   ]
  },
  {
   "cell_type": "code",
   "execution_count": 4,
   "metadata": {
    "collapsed": false
   },
   "outputs": [],
   "source": [
    "#ord(), char()"
   ]
  },
  {
   "cell_type": "code",
   "execution_count": 5,
   "metadata": {
    "collapsed": true
   },
   "outputs": [],
   "source": [
    "message = 'Hello world.'"
   ]
  },
  {
   "cell_type": "code",
   "execution_count": 19,
   "metadata": {
    "collapsed": true
   },
   "outputs": [],
   "source": [
    "def encrypt(message, key_public, exp):\n",
    "    \n",
    "    # Convert message to ASCII\n",
    "    mess_ascii = []\n",
    "    for i in message:\n",
    "        mess_ascii.append(ord(i))\n",
    "    \n",
    "    # Encrypt message\n",
    "    mess_encrypted = []\n",
    "    for i in mess_ascii:\n",
    "        mess_encrypted.append((i**exp) % key_public)\n",
    "        \n",
    "    # Return encrypted message\n",
    "    return mess_encrypted"
   ]
  },
  {
   "cell_type": "code",
   "execution_count": 20,
   "metadata": {
    "collapsed": false
   },
   "outputs": [
    {
     "data": {
      "text/plain": [
       "[1135, 1518, 2658, 2658, 1132, 1498, 2833, 1132, 2473, 2658, 2487, 399]"
      ]
     },
     "execution_count": 20,
     "metadata": {},
     "output_type": "execute_result"
    }
   ],
   "source": [
    "encrypt(message, 3127, 3)"
   ]
  }
 ],
 "metadata": {
  "kernelspec": {
   "display_name": "Python [conda root]",
   "language": "python",
   "name": "conda-root-py"
  },
  "language_info": {
   "codemirror_mode": {
    "name": "ipython",
    "version": 3
   },
   "file_extension": ".py",
   "mimetype": "text/x-python",
   "name": "python",
   "nbconvert_exporter": "python",
   "pygments_lexer": "ipython3",
   "version": "3.5.2"
  }
 },
 "nbformat": 4,
 "nbformat_minor": 1
}
