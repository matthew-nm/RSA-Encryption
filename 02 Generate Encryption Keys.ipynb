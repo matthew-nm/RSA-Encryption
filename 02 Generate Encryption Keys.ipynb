{
 "cells": [
  {
   "cell_type": "markdown",
   "metadata": {},
   "source": [
    "# RSA Encryption | 02 | Generate Encryption Keys"
   ]
  },
  {
   "cell_type": "code",
   "execution_count": 1,
   "metadata": {
    "collapsed": false
   },
   "outputs": [],
   "source": [
    "import obj\n",
    "import mmi\n",
    "from math import gcd"
   ]
  },
  {
   "cell_type": "code",
   "execution_count": 2,
   "metadata": {
    "collapsed": false
   },
   "outputs": [],
   "source": [
    "def generateKeys (primeA, primeB, exponent):\n",
    "    \n",
    "    # Generate public key\n",
    "    key_public = primeA * primeB\n",
    "    \n",
    "    # Calculate phi\n",
    "    phi = (primeA - 1) * (primeB - 1)\n",
    "    \n",
    "    # Determine if exponent value passes four tests:\n",
    "    # Is integer?\n",
    "    if int(exponent) != exponent:\n",
    "        return 'ERROR: Exponent must be an integer.'\n",
    "    \n",
    "     # Is greater than 1?\n",
    "    elif 1 >= exponent:\n",
    "        return 'ERROR: Exponent must be greater than 1.'\n",
    "    \n",
    "    # Is less than phi?\n",
    "    elif exponent >= phi:\n",
    "        return 'ERROR: Exponent must be less than phi.'\n",
    "    \n",
    "    # Is coprime with phi?\n",
    "    elif gcd(exponent,phi) != 1:\n",
    "        return 'ERROR: Exponent may not share factors with phi.'\n",
    "    \n",
    "    # Generate private key (modular multiplicative inverse)\n",
    "    key_private = mmi.modinv(exponent, phi)\n",
    "    \n",
    "    # Return keys\n",
    "    return {\n",
    "        \"key_public\" : key_public,\n",
    "        \"key_private\": key_private,\n",
    "        \"exponent\"   : exponent\n",
    "    }"
   ]
  },
  {
   "cell_type": "code",
   "execution_count": 3,
   "metadata": {
    "collapsed": false
   },
   "outputs": [
    {
     "name": "stdout",
     "output_type": "stream",
     "text": [
      "{'exponent': 17, 'key_private': 182393, 'key_public': 282943}\n"
     ]
    }
   ],
   "source": [
    "primeA   = 523\n",
    "primeB   = 541\n",
    "exponent =  17\n",
    "\n",
    "keys = generateKeys(primeA, primeB, exponent)\n",
    "\n",
    "print(keys)"
   ]
  },
  {
   "cell_type": "code",
   "execution_count": 4,
   "metadata": {
    "collapsed": false
   },
   "outputs": [],
   "source": [
    "obj.save(keys, 'data/keys')"
   ]
  }
 ],
 "metadata": {
  "anaconda-cloud": {},
  "kernelspec": {
   "display_name": "Python [conda root]",
   "language": "python",
   "name": "conda-root-py"
  },
  "language_info": {
   "codemirror_mode": {
    "name": "ipython",
    "version": 3
   },
   "file_extension": ".py",
   "mimetype": "text/x-python",
   "name": "python",
   "nbconvert_exporter": "python",
   "pygments_lexer": "ipython3",
   "version": "3.5.2"
  }
 },
 "nbformat": 4,
 "nbformat_minor": 1
}
