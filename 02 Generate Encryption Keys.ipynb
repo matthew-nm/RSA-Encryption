{
 "cells": [
  {
   "cell_type": "markdown",
   "metadata": {},
   "source": [
    "# RSA Encryption | 02 | Generate Encryption Keys"
   ]
  },
  {
   "cell_type": "code",
   "execution_count": 21,
   "metadata": {
    "collapsed": false
   },
   "outputs": [],
   "source": [
    "def generateKeys (primeA, primeB, exp):\n",
    "    \n",
    "    # Generate public key\n",
    "    key_public = primeA * primeB\n",
    "    \n",
    "    # Calculate phi\n",
    "    phi = (primeA - 1) * (primeB - 1)\n",
    "    \n",
    "    # Generate private key\n",
    "    key_private = int((2*phi + 1) / exp)\n",
    "    \n",
    "    # Determine if exp passes four tests:\n",
    "    \n",
    "    # Is integer?\n",
    "    if int(exp) != exp:\n",
    "        print('ERROR: Exponent is not an integer.')\n",
    "    \n",
    "    # Is not factor?\n",
    "    elif key_public % exp == 0:\n",
    "        print('ERROR: Exponent must not be a factor of public key.')\n",
    "    \n",
    "    # Is greater than 1?\n",
    "    elif 1 >= exp:\n",
    "        print('ERROR: Exponent must be greater than 1.')\n",
    "    \n",
    "    # Is less than phi?\n",
    "    elif exp >= phi:\n",
    "        print('ERROR: Exponent must be less than phi.')\n",
    "    \n",
    "    # Return keys if all tests passed\n",
    "    else:\n",
    "        \n",
    "        keys = {\n",
    "            \"key_public\" : key_public,\n",
    "            \"key_private\": key_private,\n",
    "            \"exponent\"   : exp\n",
    "        }\n",
    "        \n",
    "        return keys"
   ]
  },
  {
   "cell_type": "code",
   "execution_count": 26,
   "metadata": {
    "collapsed": false
   },
   "outputs": [
    {
     "data": {
      "text/plain": [
       "{'exponent': 3, 'key_private': 2011, 'key_public': 3127}"
      ]
     },
     "execution_count": 26,
     "metadata": {},
     "output_type": "execute_result"
    }
   ],
   "source": [
    "generateKeys(53,59,3)"
   ]
  },
  {
   "cell_type": "code",
   "execution_count": null,
   "metadata": {
    "collapsed": true
   },
   "outputs": [],
   "source": [
    "#primes 53 59, exponent=3\n",
    "#kpub=3127 kpriv=2011"
   ]
  }
 ],
 "metadata": {
  "anaconda-cloud": {},
  "kernelspec": {
   "display_name": "Python [conda root]",
   "language": "python",
   "name": "conda-root-py"
  },
  "language_info": {
   "codemirror_mode": {
    "name": "ipython",
    "version": 3
   },
   "file_extension": ".py",
   "mimetype": "text/x-python",
   "name": "python",
   "nbconvert_exporter": "python",
   "pygments_lexer": "ipython3",
   "version": "3.5.2"
  }
 },
 "nbformat": 4,
 "nbformat_minor": 1
}
